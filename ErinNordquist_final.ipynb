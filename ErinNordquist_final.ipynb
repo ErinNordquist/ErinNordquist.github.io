{
 "cells": [
  {
   "cell_type": "markdown",
   "metadata": {},
   "source": [
    "# McDonald's Nutrition Information in Data Science"
   ]
  },
  {
   "cell_type": "markdown",
   "metadata": {},
   "source": [
    "Today we will look at \n",
    "    1. Data Munging with Beautiful Soup from a webpage\n",
    "    2. Organizing and Cleaning\n",
    "    3. Exploratory Data Analysis using scatterplots and linear regression\n",
    "    4. Classification using Decision Trees and Random Forests\n",
    "    5. Regression using Decision Trees and Random Forests\n",
    "\n",
    "In this tutorial we will be looking at a set of data from McDonald's menu. Given that McDonald's has the calories available right on their menu board at all store locations, I want to see if/what relationships exist between calories and different nutritional elements as people with different health conditions are often far more worried about these other numbers than just the calories. For example, someone with diabetes might be interested in the sugar levels, or someone with hypertension may need to know the sodium content. We will also be using this dataset to learn about some Data Science and Machine Learning tools that are available via the sklearn module for python. "
   ]
  },
  {
   "cell_type": "markdown",
   "metadata": {},
   "source": [
    "In the code block below, I am senting the values of my headers, sending those headers along with my request to the page https://fastfoodnutrition.org/mcdonalds/chart and recieving back information from that web page. (To look at the HTML of a webpage before requesting it, go to the webpage in your browser and right click to find inspect, developer tools, or more tools.) \n",
    "Next I use BeautifulSoup to parser the html. Beautiful Soup is a package from the bs4 module that is immensely helpful in scraping data from html webpages. Using BeautifulSoup's find_all function I can locate all the tables, which on this webpage happens to be 20. After looking at the webpage I realized the subtitles in the chart were not actually connected to the tables, or split up by those headings, so I manually inserted those values then concatenated all the panda's DataFrames that I got as a result of pandas.read_html().\n",
    "Lastly I retitle my columns to have meaningful names, drop rows with na values (3 rows) and reset my index. "
   ]
  },
  {
   "cell_type": "code",
   "execution_count": 153,
   "metadata": {},
   "outputs": [
    {
     "data": {
      "text/html": [
       "<div>\n",
       "<style scoped>\n",
       "    .dataframe tbody tr th:only-of-type {\n",
       "        vertical-align: middle;\n",
       "    }\n",
       "\n",
       "    .dataframe tbody tr th {\n",
       "        vertical-align: top;\n",
       "    }\n",
       "\n",
       "    .dataframe thead th {\n",
       "        text-align: right;\n",
       "    }\n",
       "</style>\n",
       "<table border=\"1\" class=\"dataframe\">\n",
       "  <thead>\n",
       "    <tr style=\"text-align: right;\">\n",
       "      <th></th>\n",
       "      <th>Food</th>\n",
       "      <th>calories</th>\n",
       "      <th>calories_from_fat</th>\n",
       "      <th>tot_fat_g</th>\n",
       "      <th>sat_fat_g</th>\n",
       "      <th>trans_fat_g</th>\n",
       "      <th>cholesterol_mg</th>\n",
       "      <th>sodium_mg</th>\n",
       "      <th>carbs_g</th>\n",
       "      <th>fiber_g</th>\n",
       "      <th>sugar_g</th>\n",
       "      <th>protein_g</th>\n",
       "      <th>vitA_pdv</th>\n",
       "      <th>vitC_pdv</th>\n",
       "      <th>calcium_pdv</th>\n",
       "      <th>iron_pdv</th>\n",
       "      <th>category</th>\n",
       "    </tr>\n",
       "  </thead>\n",
       "  <tbody>\n",
       "    <tr>\n",
       "      <th>0</th>\n",
       "      <td>Artisan Grilled Chicken Sandwich</td>\n",
       "      <td>380</td>\n",
       "      <td>60</td>\n",
       "      <td>7</td>\n",
       "      <td>2.0</td>\n",
       "      <td>0.0</td>\n",
       "      <td>95</td>\n",
       "      <td>1110</td>\n",
       "      <td>44</td>\n",
       "      <td>3</td>\n",
       "      <td>11</td>\n",
       "      <td>37</td>\n",
       "      <td>4.0</td>\n",
       "      <td>20.0</td>\n",
       "      <td>20.0</td>\n",
       "      <td>15.0</td>\n",
       "      <td>sandwich</td>\n",
       "    </tr>\n",
       "    <tr>\n",
       "      <th>1</th>\n",
       "      <td>Single Bacon Smokehouse Burger</td>\n",
       "      <td>840</td>\n",
       "      <td>410</td>\n",
       "      <td>45</td>\n",
       "      <td>17.0</td>\n",
       "      <td>1.5</td>\n",
       "      <td>130</td>\n",
       "      <td>1580</td>\n",
       "      <td>62</td>\n",
       "      <td>2</td>\n",
       "      <td>18</td>\n",
       "      <td>46</td>\n",
       "      <td>6.0</td>\n",
       "      <td>20.0</td>\n",
       "      <td>20.0</td>\n",
       "      <td>30.0</td>\n",
       "      <td>sandwich</td>\n",
       "    </tr>\n",
       "    <tr>\n",
       "      <th>2</th>\n",
       "      <td>Double Bacon Smokehouse Burger</td>\n",
       "      <td>1130</td>\n",
       "      <td>600</td>\n",
       "      <td>67</td>\n",
       "      <td>27.0</td>\n",
       "      <td>3.0</td>\n",
       "      <td>220</td>\n",
       "      <td>1920</td>\n",
       "      <td>63</td>\n",
       "      <td>3</td>\n",
       "      <td>18</td>\n",
       "      <td>70</td>\n",
       "      <td>10.0</td>\n",
       "      <td>20.0</td>\n",
       "      <td>50.0</td>\n",
       "      <td>40.0</td>\n",
       "      <td>sandwich</td>\n",
       "    </tr>\n",
       "    <tr>\n",
       "      <th>3</th>\n",
       "      <td>Grilled Bacon Smokehouse Chicken Sandwich</td>\n",
       "      <td>750</td>\n",
       "      <td>280</td>\n",
       "      <td>31</td>\n",
       "      <td>10.0</td>\n",
       "      <td>0.5</td>\n",
       "      <td>155</td>\n",
       "      <td>1940</td>\n",
       "      <td>62</td>\n",
       "      <td>2</td>\n",
       "      <td>18</td>\n",
       "      <td>55</td>\n",
       "      <td>6.0</td>\n",
       "      <td>25.0</td>\n",
       "      <td>20.0</td>\n",
       "      <td>20.0</td>\n",
       "      <td>sandwich</td>\n",
       "    </tr>\n",
       "    <tr>\n",
       "      <th>4</th>\n",
       "      <td>Crispy Bacon Smokehouse Chicken Sandwich</td>\n",
       "      <td>920</td>\n",
       "      <td>410</td>\n",
       "      <td>45</td>\n",
       "      <td>12.0</td>\n",
       "      <td>0.5</td>\n",
       "      <td>120</td>\n",
       "      <td>1980</td>\n",
       "      <td>81</td>\n",
       "      <td>4</td>\n",
       "      <td>18</td>\n",
       "      <td>46</td>\n",
       "      <td>6.0</td>\n",
       "      <td>20.0</td>\n",
       "      <td>20.0</td>\n",
       "      <td>20.0</td>\n",
       "      <td>sandwich</td>\n",
       "    </tr>\n",
       "  </tbody>\n",
       "</table>\n",
       "</div>"
      ],
      "text/plain": [
       "                                        Food  calories  calories_from_fat  \\\n",
       "0           Artisan Grilled Chicken Sandwich       380                 60   \n",
       "1             Single Bacon Smokehouse Burger       840                410   \n",
       "2             Double Bacon Smokehouse Burger      1130                600   \n",
       "3  Grilled Bacon Smokehouse Chicken Sandwich       750                280   \n",
       "4   Crispy Bacon Smokehouse Chicken Sandwich       920                410   \n",
       "\n",
       "   tot_fat_g  sat_fat_g  trans_fat_g  cholesterol_mg  sodium_mg  carbs_g  \\\n",
       "0          7        2.0          0.0              95       1110       44   \n",
       "1         45       17.0          1.5             130       1580       62   \n",
       "2         67       27.0          3.0             220       1920       63   \n",
       "3         31       10.0          0.5             155       1940       62   \n",
       "4         45       12.0          0.5             120       1980       81   \n",
       "\n",
       "   fiber_g  sugar_g  protein_g  vitA_pdv  vitC_pdv  calcium_pdv  iron_pdv  \\\n",
       "0        3       11         37       4.0      20.0         20.0      15.0   \n",
       "1        2       18         46       6.0      20.0         20.0      30.0   \n",
       "2        3       18         70      10.0      20.0         50.0      40.0   \n",
       "3        2       18         55       6.0      25.0         20.0      20.0   \n",
       "4        4       18         46       6.0      20.0         20.0      20.0   \n",
       "\n",
       "   category  \n",
       "0  sandwich  \n",
       "1  sandwich  \n",
       "2  sandwich  \n",
       "3  sandwich  \n",
       "4  sandwich  "
      ]
     },
     "execution_count": 153,
     "metadata": {},
     "output_type": "execute_result"
    }
   ],
   "source": [
    "import requests\n",
    "from bs4 import BeautifulSoup\n",
    "import pandas \n",
    "import numpy as np\n",
    "import warnings #used to disable some warnings that are not impacting this tutorial\n",
    "warnings.filterwarnings('ignore')\n",
    "headers={'User-Agent':'Mozilla/5.0 (Macintosh; Intel Mac OS X 10_11_6) AppleWebKit/537.36 (KHTML, like Gecko) Chrome/70.0.3538.110 Safari/537.36'}\n",
    "nutr_page = requests.get('https://fastfoodnutrition.org/mcdonalds/chart',headers=headers)\n",
    "nutr_soup = BeautifulSoup(nutr_page.text, 'html.parser')\n",
    "nutr_table = nutr_soup.find_all(\"table\")\n",
    "dfs = pandas.read_html(str(nutr_table))\n",
    "#categoriess determined by looking at webpage\n",
    "dfs[0]['Category'] = 'sandwich'\n",
    "dfs[1]['Category'] = 'sandwich'\n",
    "dfs[2]['Category'] = 'sandwich'\n",
    "dfs[3]['Category'] = 'drink'\n",
    "dfs[4]['Category'] = 'drink'\n",
    "dfs[5]['Category'] = 'drink'\n",
    "dfs[6]['Category'] = 'breakfast'\n",
    "dfs[7]['Category'] = 'breakfast'\n",
    "dfs[8]['Category'] = 'nuggets & tenders'\n",
    "dfs[9]['Category'] = 'nuggets & tenders'\n",
    "dfs[10]['Category'] = 'condiment'\n",
    "dfs[11]['Category'] = 'condiment'\n",
    "dfs[12]['Category'] = 'dessert'\n",
    "dfs[13]['Category'] = 'dessert'\n",
    "dfs[14]['Category'] = 'mccafe'\n",
    "dfs[15]['Category'] = 'mccafe'\n",
    "dfs[16]['Category'] = 'mccafe'\n",
    "dfs[17]['Category'] = 'mccafe'\n",
    "dfs[18]['Category'] = 'mccafe'\n",
    "dfs[19]['Category'] = 'salad'\n",
    "dfs[20]['Category'] = 'side'\n",
    "nutr_df_full = pandas.concat(dfs) #adds the data from the seperate tables into one dataframe\n",
    "nutr_df_full.columns = ['Food','calories','calories_from_fat','tot_fat_g', 'sat_fat_g', 'trans_fat_g','cholesterol_mg', 'sodium_mg','carbs_g','fiber_g','sugar_g','protein_g','vitA_pdv','vitC_pdv','calcium_pdv','iron_pdv','category']\n",
    "nutr_df = nutr_df_full.dropna()\n",
    "nutr_df = nutr_df_full.reset_index(drop=True)\n",
    "nutr_df.head()"
   ]
  },
  {
   "cell_type": "markdown",
   "metadata": {},
   "source": [
    "Now that we have our data, we will clean up the text a bit to make sure it is understandble, has consistent formatting and meaning throughout, and could be easier to combine with outside data in the future. "
   ]
  },
  {
   "cell_type": "code",
   "execution_count": 124,
   "metadata": {},
   "outputs": [],
   "source": [
    "nutr_df['Food'].replace(' [sS]hake',' milkshake',regex=True,inplace=True)#shake >>> milkshake\n",
    "#nutr_df['Food'].replace('milkshake',' milkshake',regex=True,inplace=True)#shake >>> milkshake\n",
    "nutr_df['Food'].replace('1/4','quarter',regex=True,inplace=True)#1/4 >> quarter\n",
    "nutr_df['Food'].replace('lb.?','pounder',regex=True,inplace=True)#lb. >> pounder\n",
    "nutr_df['Food'].replace(' ?pc.| ?Pc.| ?Piece| piece','piece',regex=True,inplace=True)#pc. >> piece\n",
    "nutr_df['Food'].replace('bbq|BBQ|Barbeque','barbeque',regex=True,inplace=True)#bbq >> barbeque\n",
    "nutr_df['Food'].replace('®|©','',regex=True,inplace=True)#drop TM, C, and R symbols\n",
    "nutr_df['Food'].replace('™','',regex=True,inplace=True)\n",
    "nutr_df['Food'].replace('(|)','',regex=True,inplace=True)\n",
    "nutr_df['Food'].replace('w/','with',regex=True,inplace=True)\n",
    "nutr_df['Food'].replace('witho','without',regex=True,inplace=True)\n",
    "nutr_df['Food'].replace('[mM]c[cC]af[ée]','mcafe',regex=True,inplace=True)\n",
    "nutr_df['Food'].replace('é','e',regex=True,inplace=True)\n",
    "#nutr_df['Food'].replace(' [sS]auce','',regex=True,inplace=True)"
   ]
  },
  {
   "cell_type": "markdown",
   "metadata": {},
   "source": [
    "Now that we have a clean data set, we will begin with our Exploratory Data Visualization using matplotlib.pyplot to create scatter plots, and LinearRegression from sklearn.linear_model to create linear regression models. "
   ]
  },
  {
   "cell_type": "code",
   "execution_count": 159,
   "metadata": {},
   "outputs": [
    {
     "data": {
      "image/png": "[encoded data removed]",
      "text/plain": [
       "<Figure size 432x288 with 1 Axes>"
      ]
     },
     "metadata": {},
     "output_type": "display_data"
    },
    {
     "name": "stdout",
     "output_type": "stream",
     "text": [
      "y = [ 0.06021259]x + -6.37462441902\n",
      "score: 0.784561266063\n"
     ]
    },
    {
     "data": {
      "image/png": "[encoded data removed]",
      "text/plain": [
       "<Figure size 432x288 with 1 Axes>"
      ]
     },
     "metadata": {},
     "output_type": "display_data"
    },
    {
     "name": "stdout",
     "output_type": "stream",
     "text": [
      "y = [ 0.05422602]x + -4.41613050916\n",
      "score: 0.885960091675\n"
     ]
    },
    {
     "data": {
      "image/png": "[encoded data removed]",
      "text/plain": [
       "<Figure size 432x288 with 1 Axes>"
      ]
     },
     "metadata": {},
     "output_type": "display_data"
    },
    {
     "name": "stdout",
     "output_type": "stream",
     "text": [
      "y = [ 0.06461254]x + 16.3521708813\n",
      "score: 0.575331810813\n"
     ]
    },
    {
     "data": {
      "image/png": "[encoded data removed]",
      "text/plain": [
       "<Figure size 432x288 with 1 Axes>"
      ]
     },
     "metadata": {},
     "output_type": "display_data"
    },
    {
     "name": "stdout",
     "output_type": "stream",
     "text": [
      "y = [ 0.01485629]x + 18.8202723031\n",
      "score: 0.0367331362666\n"
     ]
    },
    {
     "data": {
      "image/png": "[encoded data removed]",
      "text/plain": [
       "<Figure size 432x288 with 1 Axes>"
      ]
     },
     "metadata": {},
     "output_type": "display_data"
    },
    {
     "name": "stdout",
     "output_type": "stream",
     "text": [
      "y = [ 2.14744811]x + -203.576786528\n",
      "score: 0.75546535786\n"
     ]
    },
    {
     "data": {
      "image/png": "[encoded data removed]",
      "text/plain": [
       "<Figure size 432x288 with 1 Axes>"
      ]
     },
     "metadata": {},
     "output_type": "display_data"
    },
    {
     "name": "stdout",
     "output_type": "stream",
     "text": [
      "y = [ 0.00282443]x + 0.256359337085\n",
      "score: 0.28373376353\n"
     ]
    }
   ],
   "source": [
    "import matplotlib.pyplot as ppl\n",
    "from sklearn.linear_model import LinearRegression\n",
    "ppl.scatter(nutr_df['calories'],nutr_df['protein_g'])\n",
    "ppl.title('Calories vs Protein')\n",
    "ppl.xlabel('Calories')\n",
    "ppl.ylabel('Protein(g)')\n",
    "reg = LinearRegression().fit(np.array(nutr_df['calories']).reshape(-1,1),nutr_df['protein_g'])\n",
    "m = reg.coef_\n",
    "b = reg.intercept_\n",
    "ppl.plot(nutr_df['calories'],(m*nutr_df['calories'])+b,c='r')\n",
    "ppl.show()\n",
    "print('y = '+str(m)+\"x + \"+str(b))\n",
    "print('score: '+str(reg.score(np.array(nutr_df['calories']).reshape(-1,1),nutr_df['protein_g'])))\n",
    "\n",
    "ppl.scatter(nutr_df['calories'],nutr_df['tot_fat_g'])\n",
    "ppl.title('Calories vs Fat')\n",
    "ppl.xlabel('Calories')\n",
    "ppl.ylabel('Fat(g)')\n",
    "reg = LinearRegression().fit(np.array(nutr_df['calories']).reshape(-1,1),nutr_df['tot_fat_g'])\n",
    "m = reg.coef_\n",
    "b = reg.intercept_\n",
    "ppl.plot(nutr_df['calories'],(m*nutr_df['calories'])+b,c='r')\n",
    "ppl.show()\n",
    "print('y = '+str(m)+\"x + \"+str(b))\n",
    "print('score: ' + str(reg.score(np.array(nutr_df['calories']).reshape(-1,1),nutr_df['tot_fat_g'])))\n",
    "\n",
    "\n",
    "ppl.scatter(nutr_df['calories'],nutr_df['carbs_g'])\n",
    "ppl.title('Calories vs Carbs')\n",
    "ppl.xlabel('Calories')\n",
    "ppl.ylabel('Carbohydrates(g)')\n",
    "reg = LinearRegression().fit(np.array(nutr_df['calories']).reshape(-1,1),nutr_df['carbs_g'])\n",
    "m = reg.coef_\n",
    "b = reg.intercept_\n",
    "ppl.plot(nutr_df['calories'],(m*nutr_df['calories'])+b,c='r')\n",
    "ppl.show()\n",
    "print('y = '+str(m)+\"x + \"+str(b))\n",
    "print('score: '+str(reg.score(np.array(nutr_df['calories']).reshape(-1,1),nutr_df['carbs_g'])))\n",
    "\n",
    "ppl.scatter(nutr_df['calories'],nutr_df['sugar_g'])\n",
    "ppl.title('Calories vs Sugar')\n",
    "ppl.xlabel('Calories')\n",
    "ppl.ylabel('Sugar(g)')\n",
    "reg = LinearRegression().fit(np.array(nutr_df['calories']).reshape(-1,1),nutr_df['sugar_g'])\n",
    "m = reg.coef_\n",
    "b = reg.intercept_\n",
    "ppl.plot(nutr_df['calories'],(m*nutr_df['calories'])+b,c='r')\n",
    "ppl.show()\n",
    "print('y = '+str(m)+\"x + \"+str(b))\n",
    "print('score: ' + str(reg.score(np.array(nutr_df['calories']).reshape(-1,1),nutr_df['sugar_g'])))\n",
    "\n",
    "ppl.scatter(nutr_df['calories'],nutr_df['sodium_mg'])\n",
    "ppl.title('Calories vs Sodium')\n",
    "ppl.xlabel('Calories')\n",
    "ppl.ylabel('Sodium(mg)')\n",
    "reg = LinearRegression().fit(np.array(nutr_df['calories']).reshape(-1,1),nutr_df['sodium_mg'])\n",
    "m = reg.coef_\n",
    "b = reg.intercept_\n",
    "ppl.plot(nutr_df['calories'],(m*nutr_df['calories'])+b,c='r')\n",
    "ppl.show()\n",
    "print('y = '+str(m)+\"x + \"+str(b))\n",
    "print('score: '+ str(reg.score(np.array(nutr_df['calories']).reshape(-1,1),nutr_df['sodium_mg'])))\n",
    "\n",
    "ppl.scatter(nutr_df['calories'],nutr_df['fiber_g'])\n",
    "ppl.title('Calories vs Fiber')\n",
    "ppl.xlabel('Calories')\n",
    "ppl.ylabel('Fiber(g)')\n",
    "reg = LinearRegression().fit(np.array(nutr_df['calories']).reshape(-1,1),nutr_df['fiber_g'])\n",
    "m = reg.coef_\n",
    "b = reg.intercept_\n",
    "ppl.plot(nutr_df['calories'],(m*nutr_df['calories'])+b,c='r')\n",
    "ppl.show()\n",
    "print('y = '+str(m)+\"x + \"+str(b))\n",
    "print('score: '+ str(reg.score(np.array(nutr_df['calories']).reshape(-1,1),nutr_df['fiber_g'])))\n",
    "\n"
   ]
  },
  {
   "cell_type": "markdown",
   "metadata": {},
   "source": [
    "These graphs are all looking for a relationship between calories and other attributes of the dataset. You can guess that the greater the calories the more it probably has of anything. This assumption seems hold here, but there are some interesting things going on here (with sugar especially). These graphs also have a red line drawn on them. This line comes from a linear regression model created using sklearn's LinearRegression from their linear_model package. "
   ]
  },
  {
   "cell_type": "markdown",
   "metadata": {},
   "source": [
    "Now we'll use a Decision Tree to try and predict the classification values of the food items. "
   ]
  },
  {
   "cell_type": "code",
   "execution_count": 155,
   "metadata": {
    "scrolled": true
   },
   "outputs": [
    {
     "name": "stdout",
     "output_type": "stream",
     "text": [
      "Decision Tree (Classification) accuracy: 0.769230769231\n"
     ]
    }
   ],
   "source": [
    "from sklearn.tree import DecisionTreeClassifier\n",
    "from sklearn.model_selection import train_test_split\n",
    "nutr_df=nutr_df.dropna()\n",
    "\n",
    "tree = DecisionTreeClassifier()\n",
    "X = np.array(nutr_df.drop(columns=['Food','category']))\n",
    "y = np.array(nutr_df[['category']])\n",
    "X_train, X_test, y_train, y_test = train_test_split(X, y, test_size=0.3, random_state=1)\n",
    "tree.fit(X_train,y_train)\n",
    "print('Decision Tree (Classification) accuracy: ' + str(tree.score(X_test,y_test)))\n"
   ]
  },
  {
   "cell_type": "markdown",
   "metadata": {},
   "source": [
    "We can do the same thing with a Random Forest which functions as a bunch of decisions trees overlayed on one another. This can give a more accurate result. Our data set is small so the difference is not too large. "
   ]
  },
  {
   "cell_type": "code",
   "execution_count": 156,
   "metadata": {},
   "outputs": [
    {
     "name": "stdout",
     "output_type": "stream",
     "text": [
      "Random Forest (Classification) accuracy: 0.846153846154\n"
     ]
    }
   ],
   "source": [
    "from sklearn.ensemble import RandomForestClassifier\n",
    "forest = RandomForestClassifier()\n",
    "forest.fit(X_train,y_train)\n",
    "print('Random Forest (Classification) accuracy: '+str(forest.score(X_test,y_test)))\n"
   ]
  },
  {
   "cell_type": "markdown",
   "metadata": {},
   "source": [
    "The previous two calculations show us examples of supervised machine learning for classfication. We can also use Decsion trees and random forests for regression, meaning we can use them to estimate numeric values. "
   ]
  },
  {
   "cell_type": "code",
   "execution_count": 157,
   "metadata": {},
   "outputs": [
    {
     "name": "stdout",
     "output_type": "stream",
     "text": [
      "Decision Tree (Regression) Accuracy: 0.938414237603\n"
     ]
    }
   ],
   "source": [
    "from sklearn.tree import DecisionTreeRegressor\n",
    "tree = DecisionTreeRegressor()\n",
    "X = np.array(nutr_df.drop(columns=['Food','calories','category']))\n",
    "y = np.array(nutr_df[['calories']])\n",
    "X_train, X_test, y_train, y_test = train_test_split(X, y, test_size=0.3, random_state=1)\n",
    "tree.fit(X_train,y_train)\n",
    "print('Decision Tree (Regression) Accuracy: '+str(tree.score(X_test,y_test)))"
   ]
  },
  {
   "cell_type": "code",
   "execution_count": 158,
   "metadata": {},
   "outputs": [
    {
     "name": "stdout",
     "output_type": "stream",
     "text": [
      "Random Forest (Regression) Accuracy: 0.968143875117\n"
     ]
    }
   ],
   "source": [
    "from sklearn.ensemble import RandomForestRegressor\n",
    "tree = RandomForestRegressor()\n",
    "tree.fit(X_train,y_train)\n",
    "print('Random Forest (Regression) Accuracy: '+str(tree.score(X_test,y_test)))"
   ]
  },
  {
   "cell_type": "markdown",
   "metadata": {},
   "source": [
    "Again we can see that the Random Forest gives us the edge in accuracy. This comes at the cost of being slower to calculate, but on a small dataset like this the amount is negligible. "
   ]
  },
  {
   "cell_type": "markdown",
   "metadata": {},
   "source": [
    "Documentation for Packages Used\n",
    "requests: http://docs.python-requests.org/en/master/\n",
    "pandas: https://pandas.pydata.org/\n",
    "numpy: http://www.numpy.org/\n",
    "BeautifulSoup from bs4: https://www.crummy.com/software/BeautifulSoup/bs4/doc/\n",
    "LinearRegression from sklearn.linear_model: https://scikit-learn.org/stable/modules/generated/sklearn.linear_model.LinearRegression.html\n",
    "train_test_split from sklearn.model_selection: https://scikit-learn.org/stable/modules/generated/sklearn.model_selection.train_test_split.html\n",
    "DecisionTreeClassifier from sklearn.tree: https://scikit-learn.org/stable/modules/generated/sklearn.tree.DecisionTreeClassifier.html\n",
    "DecisionTreeRegressor from sklearn.tree: https://scikit-learn.org/stable/modules/generated/sklearn.tree.DecisionTreeRegressor.html#sklearn.tree.DecisionTreeRegressor.score\n",
    "RandomForestClassifier from sklearn.ensemble: https://scikit-learn.org/stable/modules/generated/sklearn.ensemble.RandomForestClassifier.html\n",
    "RandomForestRegressor from sklearn.ensemble: https://scikit-learn.org/stable/modules/generated/sklearn.ensemble.RandomForestRegressor.html\n",
    "\n"
   ]
  },
  {
   "cell_type": "code",
   "execution_count": null,
   "metadata": {},
   "outputs": [],
   "source": []
  }
 ],
 "metadata": {
  "kernelspec": {
   "display_name": "Python 3",
   "language": "python",
   "name": "python3"
  },
  "language_info": {
   "codemirror_mode": {
    "name": "ipython",
    "version": 3
   },
   "file_extension": ".py",
   "mimetype": "text/x-python",
   "name": "python",
   "nbconvert_exporter": "python",
   "pygments_lexer": "ipython3",
   "version": "3.6.3"
  }
 },
 "nbformat": 4,
 "nbformat_minor": 2
}
