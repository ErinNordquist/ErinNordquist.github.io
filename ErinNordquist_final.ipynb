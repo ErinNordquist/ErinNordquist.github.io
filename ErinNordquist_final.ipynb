{
 "cells": [
  {
   "cell_type": "markdown",
   "metadata": {},
   "source": [
    "# What Can a McDonalds Menu Tell You About Nutritional Value?"
   ]
  },
  {
   "cell_type": "markdown",
   "metadata": {},
   "source": [
    "Today we will look at \n",
    "    1. Data Munging with Beautiful Soup from a webpage\n",
    "    2. Organizing and Cleaning\n",
    "    3. Exploratory Data Analysis using scatterplots and linear regression\n",
    "    4. Classification using Decision Trees and Random Forests\n",
    "    5. Regression using Decision Trees and Random Forests\n",
    "\n",
    "In this tutorial we will be looking at a set of data from McDonald's menu. Given that McDonald's has the calories available right on their menu board at all store locations, I want to see if/what relationships exist between calories and different nutritional elements as people with different health conditions are often far more worried about these other numbers than just the calories. For example, someone with diabetes might be interested in the sugar levels, or someone with hypertension may need to know the sodium content. We will also be using this dataset to learn about some Data Science and Machine Learning tools that are available via the sklearn module for python. "
   ]
  },
  {
   "cell_type": "markdown",
   "metadata": {},
   "source": [
    "In the code block below, I am senting the values of my headers, sending those headers along with my request to the page https://fastfoodnutrition.org/mcdonalds/chart and recieving back information from that web page. (To look at the HTML of a webpage before requesting it, go to the webpage in your browser and right click to find inspect, developer tools, or more tools.) \n",
    "Next I use BeautifulSoup to parser the html. Beautiful Soup is a package from the bs4 module that is immensely helpful in scraping data from html webpages. Using BeautifulSoup's find_all function I can locate all the tables, which on this webpage happens to be 20. After looking at the webpage I realized the subtitles in the chart were not actually connected to the tables, or split up by those headings, so I manually inserted those values then concatenated all the panda's DataFrames that I got as a result of pandas.read_html().\n",
    "Lastly I retitle my columns to have meaningful names, drop rows with na values (3 rows) and reset my index. "
   ]
  },
  {
   "cell_type": "code",
   "execution_count": 1,
   "metadata": {},
   "outputs": [
    {
     "data": {
      "text/html": [
       "<div>\n",
       "<style scoped>\n",
       "    .dataframe tbody tr th:only-of-type {\n",
       "        vertical-align: middle;\n",
       "    }\n",
       "\n",
       "    .dataframe tbody tr th {\n",
       "        vertical-align: top;\n",
       "    }\n",
       "\n",
       "    .dataframe thead th {\n",
       "        text-align: right;\n",
       "    }\n",
       "</style>\n",
       "<table border=\"1\" class=\"dataframe\">\n",
       "  <thead>\n",
       "    <tr style=\"text-align: right;\">\n",
       "      <th></th>\n",
       "      <th>Food</th>\n",
       "      <th>calories</th>\n",
       "      <th>calories_from_fat</th>\n",
       "      <th>tot_fat_g</th>\n",
       "      <th>sat_fat_g</th>\n",
       "      <th>trans_fat_g</th>\n",
       "      <th>cholesterol_mg</th>\n",
       "      <th>sodium_mg</th>\n",
       "      <th>carbs_g</th>\n",
       "      <th>fiber_g</th>\n",
       "      <th>sugar_g</th>\n",
       "      <th>protein_g</th>\n",
       "      <th>vitA_pdv</th>\n",
       "      <th>vitC_pdv</th>\n",
       "      <th>calcium_pdv</th>\n",
       "      <th>iron_pdv</th>\n",
       "      <th>category</th>\n",
       "    </tr>\n",
       "  </thead>\n",
       "  <tbody>\n",
       "    <tr>\n",
       "      <th>0</th>\n",
       "      <td>Artisan Grilled Chicken Sandwich</td>\n",
       "      <td>380</td>\n",
       "      <td>60</td>\n",
       "      <td>7</td>\n",
       "      <td>2.0</td>\n",
       "      <td>0.0</td>\n",
       "      <td>95</td>\n",
       "      <td>1110</td>\n",
       "      <td>44</td>\n",
       "      <td>3</td>\n",
       "      <td>11</td>\n",
       "      <td>37</td>\n",
       "      <td>4.0</td>\n",
       "      <td>20.0</td>\n",
       "      <td>20.0</td>\n",
       "      <td>15.0</td>\n",
       "      <td>sandwich</td>\n",
       "    </tr>\n",
       "    <tr>\n",
       "      <th>1</th>\n",
       "      <td>Single Bacon Smokehouse Burger</td>\n",
       "      <td>840</td>\n",
       "      <td>410</td>\n",
       "      <td>45</td>\n",
       "      <td>17.0</td>\n",
       "      <td>1.5</td>\n",
       "      <td>130</td>\n",
       "      <td>1580</td>\n",
       "      <td>62</td>\n",
       "      <td>2</td>\n",
       "      <td>18</td>\n",
       "      <td>46</td>\n",
       "      <td>6.0</td>\n",
       "      <td>20.0</td>\n",
       "      <td>20.0</td>\n",
       "      <td>30.0</td>\n",
       "      <td>sandwich</td>\n",
       "    </tr>\n",
       "    <tr>\n",
       "      <th>2</th>\n",
       "      <td>Double Bacon Smokehouse Burger</td>\n",
       "      <td>1130</td>\n",
       "      <td>600</td>\n",
       "      <td>67</td>\n",
       "      <td>27.0</td>\n",
       "      <td>3.0</td>\n",
       "      <td>220</td>\n",
       "      <td>1920</td>\n",
       "      <td>63</td>\n",
       "      <td>3</td>\n",
       "      <td>18</td>\n",
       "      <td>70</td>\n",
       "      <td>10.0</td>\n",
       "      <td>20.0</td>\n",
       "      <td>50.0</td>\n",
       "      <td>40.0</td>\n",
       "      <td>sandwich</td>\n",
       "    </tr>\n",
       "    <tr>\n",
       "      <th>3</th>\n",
       "      <td>Grilled Bacon Smokehouse Chicken Sandwich</td>\n",
       "      <td>750</td>\n",
       "      <td>280</td>\n",
       "      <td>31</td>\n",
       "      <td>10.0</td>\n",
       "      <td>0.5</td>\n",
       "      <td>155</td>\n",
       "      <td>1940</td>\n",
       "      <td>62</td>\n",
       "      <td>2</td>\n",
       "      <td>18</td>\n",
       "      <td>55</td>\n",
       "      <td>6.0</td>\n",
       "      <td>25.0</td>\n",
       "      <td>20.0</td>\n",
       "      <td>20.0</td>\n",
       "      <td>sandwich</td>\n",
       "    </tr>\n",
       "    <tr>\n",
       "      <th>4</th>\n",
       "      <td>Crispy Bacon Smokehouse Chicken Sandwich</td>\n",
       "      <td>920</td>\n",
       "      <td>410</td>\n",
       "      <td>45</td>\n",
       "      <td>12.0</td>\n",
       "      <td>0.5</td>\n",
       "      <td>120</td>\n",
       "      <td>1980</td>\n",
       "      <td>81</td>\n",
       "      <td>4</td>\n",
       "      <td>18</td>\n",
       "      <td>46</td>\n",
       "      <td>6.0</td>\n",
       "      <td>20.0</td>\n",
       "      <td>20.0</td>\n",
       "      <td>20.0</td>\n",
       "      <td>sandwich</td>\n",
       "    </tr>\n",
       "  </tbody>\n",
       "</table>\n",
       "</div>"
      ],
      "text/plain": [
       "                                        Food  calories  calories_from_fat  \\\n",
       "0           Artisan Grilled Chicken Sandwich       380                 60   \n",
       "1             Single Bacon Smokehouse Burger       840                410   \n",
       "2             Double Bacon Smokehouse Burger      1130                600   \n",
       "3  Grilled Bacon Smokehouse Chicken Sandwich       750                280   \n",
       "4   Crispy Bacon Smokehouse Chicken Sandwich       920                410   \n",
       "\n",
       "   tot_fat_g  sat_fat_g  trans_fat_g  cholesterol_mg  sodium_mg  carbs_g  \\\n",
       "0          7        2.0          0.0              95       1110       44   \n",
       "1         45       17.0          1.5             130       1580       62   \n",
       "2         67       27.0          3.0             220       1920       63   \n",
       "3         31       10.0          0.5             155       1940       62   \n",
       "4         45       12.0          0.5             120       1980       81   \n",
       "\n",
       "   fiber_g  sugar_g  protein_g  vitA_pdv  vitC_pdv  calcium_pdv  iron_pdv  \\\n",
       "0        3       11         37       4.0      20.0         20.0      15.0   \n",
       "1        2       18         46       6.0      20.0         20.0      30.0   \n",
       "2        3       18         70      10.0      20.0         50.0      40.0   \n",
       "3        2       18         55       6.0      25.0         20.0      20.0   \n",
       "4        4       18         46       6.0      20.0         20.0      20.0   \n",
       "\n",
       "   category  \n",
       "0  sandwich  \n",
       "1  sandwich  \n",
       "2  sandwich  \n",
       "3  sandwich  \n",
       "4  sandwich  "
      ]
     },
     "execution_count": 1,
     "metadata": {},
     "output_type": "execute_result"
    }
   ],
   "source": [
    "import requests\n",
    "from bs4 import BeautifulSoup\n",
    "import pandas \n",
    "import numpy as np\n",
    "import warnings #used to disable some warnings that are not impacting this tutorial\n",
    "warnings.filterwarnings('ignore')\n",
    "headers={'User-Agent':'Mozilla/5.0 (Macintosh; Intel Mac OS X 10_11_6) AppleWebKit/537.36 (KHTML, like Gecko) Chrome/70.0.3538.110 Safari/537.36'}\n",
    "nutr_page = requests.get('https://fastfoodnutrition.org/mcdonalds/chart',headers=headers)\n",
    "nutr_soup = BeautifulSoup(nutr_page.text, 'html.parser')\n",
    "nutr_table = nutr_soup.find_all(\"table\")\n",
    "dfs = pandas.read_html(str(nutr_table))\n",
    "#categoriess determined by looking at webpage\n",
    "dfs[0]['Category'] = 'sandwich'\n",
    "dfs[1]['Category'] = 'sandwich'\n",
    "dfs[2]['Category'] = 'sandwich'\n",
    "dfs[3]['Category'] = 'drink'\n",
    "dfs[4]['Category'] = 'drink'\n",
    "dfs[5]['Category'] = 'drink'\n",
    "dfs[6]['Category'] = 'breakfast'\n",
    "dfs[7]['Category'] = 'breakfast'\n",
    "dfs[8]['Category'] = 'nuggets & tenders'\n",
    "dfs[9]['Category'] = 'nuggets & tenders'\n",
    "dfs[10]['Category'] = 'condiment'\n",
    "dfs[11]['Category'] = 'condiment'\n",
    "dfs[12]['Category'] = 'dessert'\n",
    "dfs[13]['Category'] = 'dessert'\n",
    "dfs[14]['Category'] = 'mccafe'\n",
    "dfs[15]['Category'] = 'mccafe'\n",
    "dfs[16]['Category'] = 'mccafe'\n",
    "dfs[17]['Category'] = 'mccafe'\n",
    "dfs[18]['Category'] = 'mccafe'\n",
    "dfs[19]['Category'] = 'salad'\n",
    "dfs[20]['Category'] = 'side'\n",
    "nutr_df_full = pandas.concat(dfs) #adds the data from the seperate tables into one dataframe\n",
    "nutr_df_full.columns = ['Food','calories','calories_from_fat','tot_fat_g', 'sat_fat_g', 'trans_fat_g','cholesterol_mg', 'sodium_mg','carbs_g','fiber_g','sugar_g','protein_g','vitA_pdv','vitC_pdv','calcium_pdv','iron_pdv','category']\n",
    "nutr_df = nutr_df_full.dropna()\n",
    "nutr_df = nutr_df_full.reset_index(drop=True)\n",
    "nutr_df.head()"
   ]
  },
  {
   "cell_type": "markdown",
   "metadata": {},
   "source": [
    "Now that we have our data, we will clean up the text a bit to make sure it is understandble, has consistent formatting and meaning throughout, and could be easier to combine with outside data in the future. "
   ]
  },
  {
   "cell_type": "code",
   "execution_count": 2,
   "metadata": {},
   "outputs": [],
   "source": [
    "nutr_df['Food'].replace(' [sS]hake',' milkshake',regex=True,inplace=True)#shake >>> milkshake\n",
    "#nutr_df['Food'].replace('milkshake',' milkshake',regex=True,inplace=True)#shake >>> milkshake\n",
    "nutr_df['Food'].replace('1/4','quarter',regex=True,inplace=True)#1/4 >> quarter\n",
    "nutr_df['Food'].replace('lb.?','pounder',regex=True,inplace=True)#lb. >> pounder\n",
    "nutr_df['Food'].replace(' ?pc.| ?Pc.| ?Piece| piece','piece',regex=True,inplace=True)#pc. >> piece\n",
    "nutr_df['Food'].replace('bbq|BBQ|Barbeque','barbeque',regex=True,inplace=True)#bbq >> barbeque\n",
    "nutr_df['Food'].replace('®|©','',regex=True,inplace=True)#drop TM, C, and R symbols\n",
    "nutr_df['Food'].replace('™','',regex=True,inplace=True)\n",
    "nutr_df['Food'].replace('(|)','',regex=True,inplace=True)\n",
    "nutr_df['Food'].replace('w/','with',regex=True,inplace=True)\n",
    "nutr_df['Food'].replace('witho','without',regex=True,inplace=True)\n",
    "nutr_df['Food'].replace('[mM]c[cC]af[ée]','mcafe',regex=True,inplace=True)\n",
    "nutr_df['Food'].replace('é','e',regex=True,inplace=True)\n",
    "#nutr_df['Food'].replace(' [sS]auce','',regex=True,inplace=True)"
   ]
  },
  {
   "cell_type": "markdown",
   "metadata": {},
   "source": [
    "Now that we have a clean data set, we will begin with our Exploratory Data Visualization using matplotlib.pyplot to create scatter plots, and LinearRegression from sklearn.linear_model to create linear regression models. "
   ]
  },
  {
   "cell_type": "code",
   "execution_count": 3,
   "metadata": {},
   "outputs": [
    {
     "data": {
      "text/plain": [
       "<Figure size 640x480 with 1 Axes>"
      ]
     },
     "metadata": {},
     "output_type": "display_data"
    },
    {
     "name": "stdout",
     "output_type": "stream",
     "text": [
      "y = [ 0.05963627]x + -6.29080559221\n",
      "score: 0.775244191529\n"
     ]
    },
    {
     "data": {
      "text/plain": [
       "<Figure size 640x480 with 1 Axes>"
      ]
     },
     "metadata": {},
     "output_type": "display_data"
    },
    {
     "name": "stdout",
     "output_type": "stream",
     "text": [
      "y = [ 0.0541718]x + -4.38637446296\n",
      "score: 0.886569581621\n"
     ]
    },
    {
     "data": {
      "text/plain": [
       "<Figure size 640x480 with 1 Axes>"
      ]
     },
     "metadata": {},
     "output_type": "display_data"
    },
    {
     "name": "stdout",
     "output_type": "stream",
     "text": [
      "y = [ 0.06494018]x + 16.2392252353\n",
      "score: 0.579078352886\n"
     ]
    },
    {
     "data": {
      "text/plain": [
       "<Figure size 640x480 with 1 Axes>"
      ]
     },
     "metadata": {},
     "output_type": "display_data"
    },
    {
     "name": "stdout",
     "output_type": "stream",
     "text": [
      "y = [ 0.01482726]x + 18.755654905\n",
      "score: 0.0367226383386\n"
     ]
    },
    {
     "data": {
      "text/plain": [
       "<Figure size 640x480 with 1 Axes>"
      ]
     },
     "metadata": {},
     "output_type": "display_data"
    },
    {
     "name": "stdout",
     "output_type": "stream",
     "text": [
      "y = [ 2.14312818]x + -202.696031644\n",
      "score: 0.755621224222\n"
     ]
    },
    {
     "data": {
      "text/plain": [
       "<Figure size 640x480 with 1 Axes>"
      ]
     },
     "metadata": {},
     "output_type": "display_data"
    },
    {
     "name": "stdout",
     "output_type": "stream",
     "text": [
      "y = [ 0.00285189]x + 0.251058159719\n",
      "score: 0.288726695373\n"
     ]
    }
   ],
   "source": [
    "import matplotlib.pyplot as ppl\n",
    "from sklearn.linear_model import LinearRegression\n",
    "ppl.scatter(nutr_df['calories'],nutr_df['protein_g'])\n",
    "ppl.title('Calories vs Protein')\n",
    "ppl.xlabel('Calories')\n",
    "ppl.ylabel('Protein(g)')\n",
    "reg = LinearRegression().fit(np.array(nutr_df['calories']).reshape(-1,1),nutr_df['protein_g'])\n",
    "m = reg.coef_\n",
    "b = reg.intercept_\n",
    "ppl.plot(nutr_df['calories'],(m*nutr_df['calories'])+b,c='r')\n",
    "ppl.show()\n",
    "print('y = '+str(m)+\"x + \"+str(b))\n",
    "print('score: '+str(reg.score(np.array(nutr_df['calories']).reshape(-1,1),nutr_df['protein_g'])))\n",
    "\n",
    "ppl.scatter(nutr_df['calories'],nutr_df['tot_fat_g'])\n",
    "ppl.title('Calories vs Fat')\n",
    "ppl.xlabel('Calories')\n",
    "ppl.ylabel('Fat(g)')\n",
    "reg = LinearRegression().fit(np.array(nutr_df['calories']).reshape(-1,1),nutr_df['tot_fat_g'])\n",
    "m = reg.coef_\n",
    "b = reg.intercept_\n",
    "ppl.plot(nutr_df['calories'],(m*nutr_df['calories'])+b,c='r')\n",
    "ppl.show()\n",
    "print('y = '+str(m)+\"x + \"+str(b))\n",
    "print('score: ' + str(reg.score(np.array(nutr_df['calories']).reshape(-1,1),nutr_df['tot_fat_g'])))\n",
    "\n",
    "\n",
    "ppl.scatter(nutr_df['calories'],nutr_df['carbs_g'])\n",
    "ppl.title('Calories vs Carbs')\n",
    "ppl.xlabel('Calories')\n",
    "ppl.ylabel('Carbohydrates(g)')\n",
    "reg = LinearRegression().fit(np.array(nutr_df['calories']).reshape(-1,1),nutr_df['carbs_g'])\n",
    "m = reg.coef_\n",
    "b = reg.intercept_\n",
    "ppl.plot(nutr_df['calories'],(m*nutr_df['calories'])+b,c='r')\n",
    "ppl.show()\n",
    "print('y = '+str(m)+\"x + \"+str(b))\n",
    "print('score: '+str(reg.score(np.array(nutr_df['calories']).reshape(-1,1),nutr_df['carbs_g'])))\n",
    "\n",
    "ppl.scatter(nutr_df['calories'],nutr_df['sugar_g'])\n",
    "ppl.title('Calories vs Sugar')\n",
    "ppl.xlabel('Calories')\n",
    "ppl.ylabel('Sugar(g)')\n",
    "reg = LinearRegression().fit(np.array(nutr_df['calories']).reshape(-1,1),nutr_df['sugar_g'])\n",
    "m = reg.coef_\n",
    "b = reg.intercept_\n",
    "ppl.plot(nutr_df['calories'],(m*nutr_df['calories'])+b,c='r')\n",
    "ppl.show()\n",
    "print('y = '+str(m)+\"x + \"+str(b))\n",
    "print('score: ' + str(reg.score(np.array(nutr_df['calories']).reshape(-1,1),nutr_df['sugar_g'])))\n",
    "\n",
    "ppl.scatter(nutr_df['calories'],nutr_df['sodium_mg'])\n",
    "ppl.title('Calories vs Sodium')\n",
    "ppl.xlabel('Calories')\n",
    "ppl.ylabel('Sodium(mg)')\n",
    "reg = LinearRegression().fit(np.array(nutr_df['calories']).reshape(-1,1),nutr_df['sodium_mg'])\n",
    "m = reg.coef_\n",
    "b = reg.intercept_\n",
    "ppl.plot(nutr_df['calories'],(m*nutr_df['calories'])+b,c='r')\n",
    "ppl.show()\n",
    "print('y = '+str(m)+\"x + \"+str(b))\n",
    "print('score: '+ str(reg.score(np.array(nutr_df['calories']).reshape(-1,1),nutr_df['sodium_mg'])))\n",
    "\n",
    "ppl.scatter(nutr_df['calories'],nutr_df['fiber_g'])\n",
    "ppl.title('Calories vs Fiber')\n",
    "ppl.xlabel('Calories')\n",
    "ppl.ylabel('Fiber(g)')\n",
    "reg = LinearRegression().fit(np.array(nutr_df['calories']).reshape(-1,1),nutr_df['fiber_g'])\n",
    "m = reg.coef_\n",
    "b = reg.intercept_\n",
    "ppl.plot(nutr_df['calories'],(m*nutr_df['calories'])+b,c='r')\n",
    "ppl.show()\n",
    "print('y = '+str(m)+\"x + \"+str(b))\n",
    "print('score: '+ str(reg.score(np.array(nutr_df['calories']).reshape(-1,1),nutr_df['fiber_g'])))\n",
    "\n"
   ]
  },
  {
   "cell_type": "markdown",
   "metadata": {},
   "source": [
    "These graphs are all looking for a relationship between calories and other attributes of the dataset. You can guess that the greater the calories the more it probably has of anything. This assumption seems hold here, but there are some interesting things going on here (with sugar especially). These graphs also have a red line drawn on them. This line comes from a linear regression model created using sklearn's LinearRegression from their linear_model package. This model is helping us to see what the average change in nutrient (y) vs a 1 calorie increase (x). The intercept, in this case, does not really provide any functional information because technically all the lines should intersect the point (0,0) because 0 calories indicates no food which has no nutrients. (Although it should be notes that some artificial sweeteners break this rule idea.) Let's look closer at the sugar situation by coloring the scatter point by category. "
   ]
  },
  {
   "cell_type": "code",
   "execution_count": 4,
   "metadata": {},
   "outputs": [
    {
     "name": "stdout",
     "output_type": "stream",
     "text": [
      "For sandwich\n",
      "y = [ 0.01558787]x + 2.01191181926\n",
      "score: 0.531281843296\n",
      "\n",
      "For drink\n",
      "y = [ 0.23469624]x + 0.0307981894994\n",
      "score: 0.961224320744\n",
      "\n",
      "For breakfast\n",
      "y = [ 0.02315954]x + 0.48376274677\n",
      "score: 0.174048093213\n",
      "\n",
      "For nuggets & tenders\n",
      "y = [ 0.0094894]x + 2.7459186353\n",
      "score: 0.0584239218973\n",
      "\n",
      "For condiment\n",
      "y = [ 0.06197028]x + 1.74500091726\n",
      "score: 0.199367245853\n",
      "\n",
      "For dessert\n",
      "y = [ 0.15126401]x + -11.6451043004\n",
      "score: 0.951094092394\n",
      "\n",
      "For mccafe\n",
      "y = [ 0.13162827]x + 1.43420538852\n",
      "score: 0.87595692234\n",
      "\n",
      "For salad\n",
      "y = [-0.00214326]x + 7.26759285116\n",
      "score: 0.0117496359756\n",
      "\n",
      "For side\n",
      "y = [-0.00317777]x + 3.10471487113\n",
      "score: 0.066475726785\n",
      "\n"
     ]
    },
    {
     "data": {
      "image/png": "[encoded data removed]",
      "text/plain": [
       "<Figure size 432x288 with 1 Axes>"
      ]
     },
     "metadata": {},
     "output_type": "display_data"
    },
    {
     "name": "stdout",
     "output_type": "stream",
     "text": [
      "For all data combined: \n",
      "y = [ 0.01482726]x + 18.755654905\n",
      "score: 0.0367226383386\n"
     ]
    }
   ],
   "source": [
    "categories = nutr_df['category'].drop_duplicates()\n",
    "for category in categories:\n",
    "    temp = nutr_df[nutr_df['category']==category]\n",
    "    ppl.scatter(temp['calories'],temp['sugar_g'], label = category)\n",
    "    reg = LinearRegression().fit(np.array(temp['calories']).reshape(-1,1),temp['sugar_g'])\n",
    "    m = reg.coef_\n",
    "    b = reg.intercept_\n",
    "    #ppl.plot(nutr_df['calories'],(m*nutr_df['calories'])+b,c='r')\n",
    "    print('For '+category)\n",
    "    print('y = '+str(m)+\"x + \"+str(b))\n",
    "    print('score: ' + str(reg.score(np.array(temp['calories']).reshape(-1,1),temp['sugar_g'])))\n",
    "    print()\n",
    "\n",
    "ppl.legend()\n",
    "ppl.title('Calories vs Sugar')\n",
    "ppl.xlabel('Calories')\n",
    "ppl.ylabel('Sugar(g)')\n",
    "ppl.show()\n",
    "\n",
    "reg = LinearRegression().fit(np.array(nutr_df['calories']).reshape(-1,1),nutr_df['sugar_g'])\n",
    "m = reg.coef_\n",
    "b = reg.intercept_\n",
    "print('For all data combined: ')\n",
    "print('y = '+str(m)+\"x + \"+str(b))\n",
    "print('score: ' + str(reg.score(np.array(nutr_df['calories']).reshape(-1,1),nutr_df['sugar_g'])))\n"
   ]
  },
  {
   "cell_type": "markdown",
   "metadata": {},
   "source": [
    "As you were probably expecting, drinks, mccafe items, and desserts make up the top part of the sugar split. It appes that these categories as well as nuggests & tenders, and maybe sandwiches fall into their own linear patterns independent of the rest of the graph. I decided to go ahead and calculate the linear regression models as I plotted the different categories. \n",
    "\n",
    "In score values for the new model provide far more information than the basic model did. Drinks, desserts, and mccafe now have scores above 0.8, an incredible improvement from less than 0.05. However, not all of the category-specific models were quite as good. nuggests & tenders, sides, and salads are still around the same score level, but this makes sense. McDonald's offers some healthier option like grilled chicken, but also offered barbeque sauce dipped chicken with loads more sugar, the same goes for salad dressings. Sides are a very diverse category in themselves so it's not surprising that they don't show a strong relationship between calories and sugar content. "
   ]
  },
  {
   "cell_type": "code",
   "execution_count": 5,
   "metadata": {},
   "outputs": [
    {
     "data": {
      "text/html": [
       "<div>\n",
       "<style scoped>\n",
       "    .dataframe tbody tr th:only-of-type {\n",
       "        vertical-align: middle;\n",
       "    }\n",
       "\n",
       "    .dataframe tbody tr th {\n",
       "        vertical-align: top;\n",
       "    }\n",
       "\n",
       "    .dataframe thead th {\n",
       "        text-align: right;\n",
       "    }\n",
       "</style>\n",
       "<table border=\"1\" class=\"dataframe\">\n",
       "  <thead>\n",
       "    <tr style=\"text-align: right;\">\n",
       "      <th></th>\n",
       "      <th>Food</th>\n",
       "      <th>calories</th>\n",
       "      <th>calories_from_fat</th>\n",
       "      <th>tot_fat_g</th>\n",
       "      <th>sat_fat_g</th>\n",
       "      <th>trans_fat_g</th>\n",
       "      <th>cholesterol_mg</th>\n",
       "      <th>sodium_mg</th>\n",
       "      <th>carbs_g</th>\n",
       "      <th>fiber_g</th>\n",
       "      <th>sugar_g</th>\n",
       "      <th>protein_g</th>\n",
       "      <th>vitA_pdv</th>\n",
       "      <th>vitC_pdv</th>\n",
       "      <th>calcium_pdv</th>\n",
       "      <th>iron_pdv</th>\n",
       "      <th>category</th>\n",
       "      <th>cat_int</th>\n",
       "    </tr>\n",
       "  </thead>\n",
       "  <tbody>\n",
       "    <tr>\n",
       "      <th>0</th>\n",
       "      <td>Artisan Grilled Chicken Sandwich</td>\n",
       "      <td>380</td>\n",
       "      <td>60</td>\n",
       "      <td>7</td>\n",
       "      <td>2.0</td>\n",
       "      <td>0.0</td>\n",
       "      <td>95</td>\n",
       "      <td>1110</td>\n",
       "      <td>44</td>\n",
       "      <td>3</td>\n",
       "      <td>11</td>\n",
       "      <td>37</td>\n",
       "      <td>4.0</td>\n",
       "      <td>20.0</td>\n",
       "      <td>20.0</td>\n",
       "      <td>15.0</td>\n",
       "      <td>sandwich</td>\n",
       "      <td>0</td>\n",
       "    </tr>\n",
       "    <tr>\n",
       "      <th>1</th>\n",
       "      <td>Single Bacon Smokehouse Burger</td>\n",
       "      <td>840</td>\n",
       "      <td>410</td>\n",
       "      <td>45</td>\n",
       "      <td>17.0</td>\n",
       "      <td>1.5</td>\n",
       "      <td>130</td>\n",
       "      <td>1580</td>\n",
       "      <td>62</td>\n",
       "      <td>2</td>\n",
       "      <td>18</td>\n",
       "      <td>46</td>\n",
       "      <td>6.0</td>\n",
       "      <td>20.0</td>\n",
       "      <td>20.0</td>\n",
       "      <td>30.0</td>\n",
       "      <td>sandwich</td>\n",
       "      <td>0</td>\n",
       "    </tr>\n",
       "    <tr>\n",
       "      <th>2</th>\n",
       "      <td>Double Bacon Smokehouse Burger</td>\n",
       "      <td>1130</td>\n",
       "      <td>600</td>\n",
       "      <td>67</td>\n",
       "      <td>27.0</td>\n",
       "      <td>3.0</td>\n",
       "      <td>220</td>\n",
       "      <td>1920</td>\n",
       "      <td>63</td>\n",
       "      <td>3</td>\n",
       "      <td>18</td>\n",
       "      <td>70</td>\n",
       "      <td>10.0</td>\n",
       "      <td>20.0</td>\n",
       "      <td>50.0</td>\n",
       "      <td>40.0</td>\n",
       "      <td>sandwich</td>\n",
       "      <td>0</td>\n",
       "    </tr>\n",
       "    <tr>\n",
       "      <th>3</th>\n",
       "      <td>Grilled Bacon Smokehouse Chicken Sandwich</td>\n",
       "      <td>750</td>\n",
       "      <td>280</td>\n",
       "      <td>31</td>\n",
       "      <td>10.0</td>\n",
       "      <td>0.5</td>\n",
       "      <td>155</td>\n",
       "      <td>1940</td>\n",
       "      <td>62</td>\n",
       "      <td>2</td>\n",
       "      <td>18</td>\n",
       "      <td>55</td>\n",
       "      <td>6.0</td>\n",
       "      <td>25.0</td>\n",
       "      <td>20.0</td>\n",
       "      <td>20.0</td>\n",
       "      <td>sandwich</td>\n",
       "      <td>0</td>\n",
       "    </tr>\n",
       "    <tr>\n",
       "      <th>4</th>\n",
       "      <td>Crispy Bacon Smokehouse Chicken Sandwich</td>\n",
       "      <td>920</td>\n",
       "      <td>410</td>\n",
       "      <td>45</td>\n",
       "      <td>12.0</td>\n",
       "      <td>0.5</td>\n",
       "      <td>120</td>\n",
       "      <td>1980</td>\n",
       "      <td>81</td>\n",
       "      <td>4</td>\n",
       "      <td>18</td>\n",
       "      <td>46</td>\n",
       "      <td>6.0</td>\n",
       "      <td>20.0</td>\n",
       "      <td>20.0</td>\n",
       "      <td>20.0</td>\n",
       "      <td>sandwich</td>\n",
       "      <td>0</td>\n",
       "    </tr>\n",
       "  </tbody>\n",
       "</table>\n",
       "</div>"
      ],
      "text/plain": [
       "                                        Food  calories  calories_from_fat  \\\n",
       "0           Artisan Grilled Chicken Sandwich       380                 60   \n",
       "1             Single Bacon Smokehouse Burger       840                410   \n",
       "2             Double Bacon Smokehouse Burger      1130                600   \n",
       "3  Grilled Bacon Smokehouse Chicken Sandwich       750                280   \n",
       "4   Crispy Bacon Smokehouse Chicken Sandwich       920                410   \n",
       "\n",
       "   tot_fat_g  sat_fat_g  trans_fat_g  cholesterol_mg  sodium_mg  carbs_g  \\\n",
       "0          7        2.0          0.0              95       1110       44   \n",
       "1         45       17.0          1.5             130       1580       62   \n",
       "2         67       27.0          3.0             220       1920       63   \n",
       "3         31       10.0          0.5             155       1940       62   \n",
       "4         45       12.0          0.5             120       1980       81   \n",
       "\n",
       "   fiber_g  sugar_g  protein_g  vitA_pdv  vitC_pdv  calcium_pdv  iron_pdv  \\\n",
       "0        3       11         37       4.0      20.0         20.0      15.0   \n",
       "1        2       18         46       6.0      20.0         20.0      30.0   \n",
       "2        3       18         70      10.0      20.0         50.0      40.0   \n",
       "3        2       18         55       6.0      25.0         20.0      20.0   \n",
       "4        4       18         46       6.0      20.0         20.0      20.0   \n",
       "\n",
       "   category cat_int  \n",
       "0  sandwich       0  \n",
       "1  sandwich       0  \n",
       "2  sandwich       0  \n",
       "3  sandwich       0  \n",
       "4  sandwich       0  "
      ]
     },
     "execution_count": 5,
     "metadata": {},
     "output_type": "execute_result"
    }
   ],
   "source": [
    "nutr_df['cat_int'] = nutr_df['category']\n",
    "mapping = dict(zip(categories,range(0,9)))\n",
    "for i,r in nutr_df.iterrows():\n",
    "    nutr_df.at[i,'cat_int'] = mapping.get(r['category'])\n",
    "nutr_df.head()"
   ]
  },
  {
   "cell_type": "markdown",
   "metadata": {},
   "source": [
    "Now we'll use a Decision Tree to try and predict the classification values of the food items. "
   ]
  },
  {
   "cell_type": "code",
   "execution_count": 6,
   "metadata": {
    "scrolled": true
   },
   "outputs": [
    {
     "name": "stdout",
     "output_type": "stream",
     "text": [
      "Decision Tree (Classification) accuracy: 0.794871794872\n",
      "                    0         1\n",
      "0            calories  0.012511\n",
      "1   calories_from_fat  0.007065\n",
      "2           tot_fat_g  0.057340\n",
      "3           sat_fat_g  0.162101\n",
      "4         trans_fat_g  0.000000\n",
      "5      cholesterol_mg  0.052914\n",
      "6           sodium_mg  0.066028\n",
      "7             carbs_g  0.064544\n",
      "8             fiber_g  0.057979\n",
      "9             sugar_g  0.155436\n",
      "10          protein_g  0.101976\n",
      "11           vitA_pdv  0.052670\n",
      "12           vitC_pdv  0.000000\n",
      "13        calcium_pdv  0.041836\n",
      "14           iron_pdv  0.167598\n"
     ]
    }
   ],
   "source": [
    "from sklearn.tree import DecisionTreeClassifier\n",
    "from sklearn.model_selection import train_test_split\n",
    "nutr_df=nutr_df.dropna()\n",
    "\n",
    "tree = DecisionTreeClassifier()\n",
    "X = np.array(nutr_df.drop(columns=['Food','category','cat_int']))\n",
    "y = np.array(nutr_df[['category']])\n",
    "X_train, X_test, y_train, y_test = train_test_split(X, y, test_size=0.3, random_state=1)\n",
    "tree.fit(X_train,y_train)\n",
    "print('Decision Tree (Classification) accuracy: ' + str(tree.score(X_test,y_test)))\n",
    "print(pandas.DataFrame(list(zip(nutr_df.drop(columns=['Food','category','cat_int']),tree.feature_importances_))))"
   ]
  },
  {
   "cell_type": "markdown",
   "metadata": {},
   "source": [
    "Above we see the accuracy score given by sklearn's .score() function. This reflects the proportion the tree predicted correctly in the test data set after learning from the training data set. We also see the list of all the attributes passed into the tree, and the importance they were given in determining the result. \n",
    "\n",
    "We can do the same thing with a Random Forest which functions as a bunch of decisions trees overlayed on one another. This can give a more accurate result by adding in a touch of randomization for each individual tree."
   ]
  },
  {
   "cell_type": "code",
   "execution_count": 7,
   "metadata": {},
   "outputs": [
    {
     "name": "stdout",
     "output_type": "stream",
     "text": [
      "Random Forest (Classification) accuracy: 0.846153846154\n",
      "                    0         1\n",
      "0            calories  0.060625\n",
      "1   calories_from_fat  0.059830\n",
      "2           tot_fat_g  0.051541\n",
      "3           sat_fat_g  0.059555\n",
      "4         trans_fat_g  0.000000\n",
      "5      cholesterol_mg  0.096829\n",
      "6           sodium_mg  0.113592\n",
      "7             carbs_g  0.096192\n",
      "8             fiber_g  0.077137\n",
      "9             sugar_g  0.081794\n",
      "10          protein_g  0.091201\n",
      "11           vitA_pdv  0.046634\n",
      "12           vitC_pdv  0.039787\n",
      "13        calcium_pdv  0.054960\n",
      "14           iron_pdv  0.070322\n"
     ]
    }
   ],
   "source": [
    "from sklearn.ensemble import RandomForestClassifier\n",
    "forest = RandomForestClassifier()\n",
    "forest.fit(X_train,y_train)\n",
    "print('Random Forest (Classification) accuracy: '+str(forest.score(X_test,y_test)))\n",
    "print(pandas.DataFrame(list(zip(nutr_df.drop(columns=['Food','category','cat_int']),forest.feature_importances_))))"
   ]
  },
  {
   "cell_type": "markdown",
   "metadata": {},
   "source": [
    "The results here are similar, but still different from the previous algorithm. We see a little higher accuracy, and different importance levels. It is important to remember that both of these values depend on what is passed in to train with. Here I am using train_test_split from sklearn.model_selection so my dataset is being split randomly everytime the code compiles. The DecisionTree and my RandomForest are using the same data sets per run though so these values are compareable. \n",
    "\n",
    "The previous two calculations show us examples of supervised machine learning for classfication. We can also use decision trees and random forests for regression, meaning we can use them to estimate numeric values. "
   ]
  },
  {
   "cell_type": "code",
   "execution_count": 8,
   "metadata": {},
   "outputs": [
    {
     "name": "stdout",
     "output_type": "stream",
     "text": [
      "Decision Tree (Regression) Accuracy: 0.923749963272\n",
      "                 0         1\n",
      "0        tot_fat_g  0.823231\n",
      "1        sat_fat_g  0.010250\n",
      "2      trans_fat_g  0.000000\n",
      "3   cholesterol_mg  0.002763\n",
      "4        sodium_mg  0.000521\n",
      "5          carbs_g  0.073802\n",
      "6          fiber_g  0.011193\n",
      "7          sugar_g  0.067237\n",
      "8        protein_g  0.007530\n",
      "9         vitA_pdv  0.000130\n",
      "10        vitC_pdv  0.001630\n",
      "11     calcium_pdv  0.000984\n",
      "12        iron_pdv  0.000486\n",
      "13         cat_int  0.000242\n"
     ]
    }
   ],
   "source": [
    "from sklearn.tree import DecisionTreeRegressor\n",
    "tree = DecisionTreeRegressor()\n",
    "X = np.array(nutr_df.drop(columns=['Food','calories','category','calories_from_fat']))\n",
    "y = np.array(nutr_df[['calories']])\n",
    "X_train, X_test, y_train, y_test = train_test_split(X, y, test_size=0.3, random_state=1)\n",
    "tree.fit(X_train,y_train)\n",
    "print('Decision Tree (Regression) Accuracy: '+str(tree.score(X_test,y_test)))\n",
    "print(pandas.DataFrame(list(zip(nutr_df.drop(columns=['Food','calories','category','calories_from_fat']),tree.feature_importances_))))"
   ]
  },
  {
   "cell_type": "code",
   "execution_count": 9,
   "metadata": {},
   "outputs": [
    {
     "name": "stdout",
     "output_type": "stream",
     "text": [
      "Random Forest (Regression) Accuracy: 0.974716193382\n",
      "                 0         1\n",
      "0        tot_fat_g  0.614017\n",
      "1        sat_fat_g  0.002920\n",
      "2      trans_fat_g  0.000102\n",
      "3   cholesterol_mg  0.081516\n",
      "4        sodium_mg  0.128657\n",
      "5          carbs_g  0.089782\n",
      "6          fiber_g  0.003544\n",
      "7          sugar_g  0.017245\n",
      "8        protein_g  0.048145\n",
      "9         vitA_pdv  0.001398\n",
      "10        vitC_pdv  0.003357\n",
      "11     calcium_pdv  0.005844\n",
      "12        iron_pdv  0.002379\n",
      "13         cat_int  0.001092\n"
     ]
    }
   ],
   "source": [
    "from sklearn.ensemble import RandomForestRegressor\n",
    "tree = RandomForestRegressor()\n",
    "tree.fit(X_train,y_train)\n",
    "print('Random Forest (Regression) Accuracy: '+str(tree.score(X_test,y_test)))\n",
    "print(pandas.DataFrame(list(zip(nutr_df.drop(columns=['Food','calories','category','calories_from_fat']),tree.feature_importances_))))"
   ]
  },
  {
   "cell_type": "markdown",
   "metadata": {},
   "source": [
    "Again we can see that the Random Forest gives us the edge in accuracy. This comes at the cost of being slower to calculate, but on a small dataset like this the amount is negligible. Now let's try this on the information we have available from a menu that we have in our dataset--Food name, calories, and category. \n",
    "\n",
    "We are going to take a simpified approach to recognizing the words of the Food name. You could employ Natural Language Processing to determine the meaning of different words and how those meanings match up with other information, but here we will be creating a series of dummy variables based on regular expressions that have been passed over the Food name strings."
   ]
  },
  {
   "cell_type": "code",
   "execution_count": 10,
   "metadata": {},
   "outputs": [
    {
     "data": {
      "text/html": [
       "<div>\n",
       "<style scoped>\n",
       "    .dataframe tbody tr th:only-of-type {\n",
       "        vertical-align: middle;\n",
       "    }\n",
       "\n",
       "    .dataframe tbody tr th {\n",
       "        vertical-align: top;\n",
       "    }\n",
       "\n",
       "    .dataframe thead th {\n",
       "        text-align: right;\n",
       "    }\n",
       "</style>\n",
       "<table border=\"1\" class=\"dataframe\">\n",
       "  <thead>\n",
       "    <tr style=\"text-align: right;\">\n",
       "      <th></th>\n",
       "      <th>Food</th>\n",
       "      <th>calories</th>\n",
       "      <th>category</th>\n",
       "      <th>cat_int</th>\n",
       "      <th>chicken</th>\n",
       "      <th>burger</th>\n",
       "      <th>milkshake</th>\n",
       "      <th>grilled</th>\n",
       "    </tr>\n",
       "  </thead>\n",
       "  <tbody>\n",
       "    <tr>\n",
       "      <th>0</th>\n",
       "      <td>Artisan Grilled Chicken Sandwich</td>\n",
       "      <td>380</td>\n",
       "      <td>sandwich</td>\n",
       "      <td>0</td>\n",
       "      <td>True</td>\n",
       "      <td>False</td>\n",
       "      <td>False</td>\n",
       "      <td>True</td>\n",
       "    </tr>\n",
       "    <tr>\n",
       "      <th>1</th>\n",
       "      <td>Single Bacon Smokehouse Burger</td>\n",
       "      <td>840</td>\n",
       "      <td>sandwich</td>\n",
       "      <td>0</td>\n",
       "      <td>False</td>\n",
       "      <td>True</td>\n",
       "      <td>False</td>\n",
       "      <td>False</td>\n",
       "    </tr>\n",
       "    <tr>\n",
       "      <th>2</th>\n",
       "      <td>Double Bacon Smokehouse Burger</td>\n",
       "      <td>1130</td>\n",
       "      <td>sandwich</td>\n",
       "      <td>0</td>\n",
       "      <td>False</td>\n",
       "      <td>True</td>\n",
       "      <td>False</td>\n",
       "      <td>False</td>\n",
       "    </tr>\n",
       "    <tr>\n",
       "      <th>3</th>\n",
       "      <td>Grilled Bacon Smokehouse Chicken Sandwich</td>\n",
       "      <td>750</td>\n",
       "      <td>sandwich</td>\n",
       "      <td>0</td>\n",
       "      <td>True</td>\n",
       "      <td>False</td>\n",
       "      <td>False</td>\n",
       "      <td>True</td>\n",
       "    </tr>\n",
       "    <tr>\n",
       "      <th>4</th>\n",
       "      <td>Crispy Bacon Smokehouse Chicken Sandwich</td>\n",
       "      <td>920</td>\n",
       "      <td>sandwich</td>\n",
       "      <td>0</td>\n",
       "      <td>True</td>\n",
       "      <td>False</td>\n",
       "      <td>False</td>\n",
       "      <td>False</td>\n",
       "    </tr>\n",
       "  </tbody>\n",
       "</table>\n",
       "</div>"
      ],
      "text/plain": [
       "                                        Food  calories  category cat_int  \\\n",
       "0           Artisan Grilled Chicken Sandwich       380  sandwich       0   \n",
       "1             Single Bacon Smokehouse Burger       840  sandwich       0   \n",
       "2             Double Bacon Smokehouse Burger      1130  sandwich       0   \n",
       "3  Grilled Bacon Smokehouse Chicken Sandwich       750  sandwich       0   \n",
       "4   Crispy Bacon Smokehouse Chicken Sandwich       920  sandwich       0   \n",
       "\n",
       "   chicken  burger  milkshake  grilled  \n",
       "0     True   False      False     True  \n",
       "1    False    True      False    False  \n",
       "2    False    True      False    False  \n",
       "3     True   False      False     True  \n",
       "4     True   False      False    False  "
      ]
     },
     "execution_count": 10,
     "metadata": {},
     "output_type": "execute_result"
    }
   ],
   "source": [
    "menu_df = nutr_df[['Food','calories', 'category','cat_int']]\n",
    "menu_df['chicken'] = menu_df['Food'].str.contains('[cC]hicken',regex=True)\n",
    "menu_df['burger'] = menu_df['Food'].str.contains('[bB]urger',regex=True)\n",
    "menu_df['milkshake'] = menu_df['Food'].str.contains('milkshake',regex=True)\n",
    "menu_df['grilled'] = menu_df['Food'].str.contains('[gG]rilled',regex=True)\n",
    "menu_df.head()"
   ]
  },
  {
   "cell_type": "markdown",
   "metadata": {},
   "source": [
    "The above DataFrame, menu_df, now contains this information for every item. Now we will see if we can use this information to guess total_fat, saturated fat, and sugar using a Random Forest like we did before. "
   ]
  },
  {
   "cell_type": "code",
   "execution_count": 11,
   "metadata": {},
   "outputs": [
    {
     "name": "stdout",
     "output_type": "stream",
     "text": [
      "Random Forest (Regression) Accuracy in guess total fat(g): 0.883957764443\n",
      "           0         1\n",
      "0   calories  0.960709\n",
      "1    cat_int  0.028988\n",
      "2    chicken  0.004013\n",
      "3     burger  0.001327\n",
      "4  milkshake  0.004411\n",
      "5    grilled  0.000552\n",
      "Random Forest (Regression) Accuracy in estimating saturated fat(g): 0.825330631654\n",
      "           0         1\n",
      "0   calories  0.847191\n",
      "1    cat_int  0.110129\n",
      "2    chicken  0.034441\n",
      "3     burger  0.005265\n",
      "4  milkshake  0.002000\n",
      "5    grilled  0.000975\n",
      "Random Forest (Regression) Accuracy in estimating sugar(g): 0.833143517778\n",
      "           0         1\n",
      "0   calories  0.493556\n",
      "1    cat_int  0.284558\n",
      "2    chicken  0.116248\n",
      "3     burger  0.005738\n",
      "4  milkshake  0.099856\n",
      "5    grilled  0.000043\n"
     ]
    }
   ],
   "source": [
    "tree = RandomForestRegressor()\n",
    "X = np.array(menu_df.drop(columns=['Food','category']))\n",
    "y = np.array(nutr_df[['tot_fat_g']])\n",
    "X_train, X_test, y_train, y_test = train_test_split(X, y, test_size=0.3, random_state=1)\n",
    "tree.fit(X_train,y_train)\n",
    "tree.fit(X_train,y_train)\n",
    "print('Random Forest (Regression) Accuracy in guess total fat(g): '+str(tree.score(X_test,y_test)))\n",
    "print(pandas.DataFrame(list(zip(menu_df.drop(columns=['Food','category']),tree.feature_importances_))))\n",
    "\n",
    "tree = RandomForestRegressor()\n",
    "X = np.array(menu_df.drop(columns=['Food','category']))\n",
    "y = np.array(nutr_df[['sat_fat_g']])\n",
    "X_train, X_test, y_train, y_test = train_test_split(X, y, test_size=0.3, random_state=1)\n",
    "tree.fit(X_train,y_train)\n",
    "tree.fit(X_train,y_train)\n",
    "print('Random Forest (Regression) Accuracy in estimating saturated fat(g): '+str(tree.score(X_test,y_test)))\n",
    "print(pandas.DataFrame(list(zip(menu_df.drop(columns=['Food','category']),tree.feature_importances_))))\n",
    "\n",
    "tree = RandomForestRegressor()\n",
    "X = np.array(menu_df.drop(columns=['Food','category']))\n",
    "y = np.array(nutr_df[['sugar_g']])\n",
    "X_train, X_test, y_train, y_test = train_test_split(X, y, test_size=0.3, random_state=1)\n",
    "tree.fit(X_train,y_train)\n",
    "tree.fit(X_train,y_train)\n",
    "print('Random Forest (Regression) Accuracy in estimating sugar(g): '+str(tree.score(X_test,y_test)))\n",
    "print(pandas.DataFrame(list(zip(menu_df.drop(columns=['Food','category']),tree.feature_importances_))))\n"
   ]
  },
  {
   "cell_type": "markdown",
   "metadata": {},
   "source": [
    "They all seem to provide relatively descent estimates. They appear to rely most on calories and category (cat_int). This makes sense because the category helps determine the expected amounts of different nutrients like we saw with sugar earlier, and calories helps to predict the amount specifically. Let's try one more, fiber, whose regression model had a fairly low score. "
   ]
  },
  {
   "cell_type": "code",
   "execution_count": 12,
   "metadata": {},
   "outputs": [
    {
     "name": "stdout",
     "output_type": "stream",
     "text": [
      "Random Forest (Regression) Accuracy in estimating fiber(g): 0.673475698402\n",
      "           0         1\n",
      "0   calories  0.532446\n",
      "1    cat_int  0.304017\n",
      "2    chicken  0.136188\n",
      "3     burger  0.001646\n",
      "4  milkshake  0.020975\n",
      "5    grilled  0.004727\n"
     ]
    }
   ],
   "source": [
    "tree = RandomForestRegressor()\n",
    "X = np.array(menu_df.drop(columns=['Food','category']))\n",
    "y = np.array(nutr_df[['fiber_g']])\n",
    "X_train, X_test, y_train, y_test = train_test_split(X, y, test_size=0.3, random_state=1)\n",
    "tree.fit(X_train,y_train)\n",
    "tree.fit(X_train,y_train)\n",
    "print('Random Forest (Regression) Accuracy in estimating fiber(g): '+str(tree.score(X_test,y_test)))\n",
    "print(pandas.DataFrame(list(zip(menu_df.drop(columns=['Food','category']),tree.feature_importances_))))"
   ]
  },
  {
   "cell_type": "markdown",
   "metadata": {},
   "source": [
    "This is much less accurate than the other models, but let's see if we can improve it being adding another word variable. "
   ]
  },
  {
   "cell_type": "code",
   "execution_count": 13,
   "metadata": {},
   "outputs": [
    {
     "name": "stdout",
     "output_type": "stream",
     "text": [
      "Random Forest (Regression) Accuracy in estimating fiber(g): 0.573788306818\n",
      "           0         1\n",
      "0   calories  0.598737\n",
      "1    cat_int  0.284771\n",
      "2    chicken  0.029932\n",
      "3     burger  0.001164\n",
      "4  milkshake  0.044778\n",
      "5    grilled  0.004741\n",
      "6      salad  0.035876\n"
     ]
    }
   ],
   "source": [
    "menu_df['salad'] = menu_df['Food'].str.contains('[sS]alad',regex=True)\n",
    "tree = RandomForestRegressor()\n",
    "X = np.array(menu_df.drop(columns=['Food','category']))\n",
    "y = np.array(nutr_df[['fiber_g']])\n",
    "X_train, X_test, y_train, y_test = train_test_split(X, y, test_size=0.3, random_state=1)\n",
    "tree.fit(X_train,y_train)\n",
    "tree.fit(X_train,y_train)\n",
    "print('Random Forest (Regression) Accuracy in estimating fiber(g): '+str(tree.score(X_test,y_test)))\n",
    "print(pandas.DataFrame(list(zip(menu_df.drop(columns=['Food','category']),tree.feature_importances_))))\n"
   ]
  },
  {
   "cell_type": "markdown",
   "metadata": {},
   "source": [
    "That change looks like it might have helped improve accuracy some, but given the limited number of items in the dataset containing the word \"salad\" it's not surprising this didn't have a strong effect. To be able to predict things more accuratley we would dive deeper into Machine Learning, potentially using [Neural Networks](https://skymind.ai/wiki/neural-network) and [Natural Language Processing](https://towardsdatascience.com/introduction-to-nlp-5bff2b2a7170) to further assess the impact different words seem to have on nutritional content. "
   ]
  },
  {
   "cell_type": "markdown",
   "metadata": {},
   "source": [
    "Now you know how to scrape data, organize and clean it (although this will be a unique process for every data set), visualize it, use linear regression to make linear estimations, and create Decision Trees and Random Forests to let machine learning find those relationships for you. There is still a vast amount to learn about Data Science and Machine Learning. I especially recomend you check out [this](https://scikit-learn.org/stable/tutorial/machine_learning_map/index.html) diagram from sklearn to see the options provided by just one module."
   ]
  },
  {
   "cell_type": "markdown",
   "metadata": {},
   "source": [
    "Documentation for Modules and Packages Used\n",
    "1. [requests](http://docs.python-requests.org/en/master/)\n",
    "2. [pandas](https://pandas.pydata.org/)\n",
    "3. [numpy](http://www.numpy.org/)\n",
    "4. [BeautifulSoup](https://www.crummy.com/software/BeautifulSoup/bs4/doc/) from bs4 \n",
    "5. [matplotlib](https://matplotlib.org/index.html)\n",
    "6. [LinearRegression](https://scikit-learn.org/stable/modules/generated/sklearn.linear_model.LinearRegression.html) from sklearn.linear_model\n",
    "7. [train_test_split](https://scikit-learn.org/stable/modules/generated/sklearn.model_selection.train_test_split.html) from sklearn.model_selection \n",
    "8. [DecisionTreeClassifier](https://scikit-learn.org/stable/modules/generated/sklearn.tree.DecisionTreeClassifier.html) from sklearn.tree \n",
    "9. [DecisionTreeRegressor](https://scikit-learn.org/stable/modules/generated/sklearn.tree.DecisionTreeRegressor.html) from sklearn.tree \n",
    "10. [RandomForestClassifier](https://scikit-learn.org/stable/modules/generated/sklearn.ensemble.RandomForestClassifier.html) from sklearn.ensemble\n",
    "11. [RandomForestRegressor](https://scikit-learn.org/stable/modules/generated/sklearn.ensemble.RandomForestRegressor.html) from sklearn.ensemble \n"
   ]
  },
  {
   "cell_type": "markdown",
   "metadata": {},
   "source": [
    "More information about modules you might be interested in:\n",
    "- Natural Language Processing: [article](https://medium.com/activewizards-machine-learning-company/comparison-of-top-6-python-nlp-libraries-c4ce160237eb), [TensorFlow](https://www.tensorflow.org/)\n",
    "- Data Visualization: [ggplot](https://ggplot2.tidyverse.org/index.html), [seaborn](https://seaborn.pydata.org/), and many many more.\n",
    "\n",
    "If there is another topic you are especially interested in I encourage you to hop on your favorite search engine and find out what is out there for you to explore.    --Erin Nordquist\n"
   ]
  },
  {
   "cell_type": "code",
   "execution_count": null,
   "metadata": {},
   "outputs": [],
   "source": []
  }
 ],
 "metadata": {
  "kernelspec": {
   "display_name": "Python 3",
   "language": "python",
   "name": "python3"
  },
  "language_info": {
   "codemirror_mode": {
    "name": "ipython",
    "version": 3
   },
   "file_extension": ".py",
   "mimetype": "text/x-python",
   "name": "python",
   "nbconvert_exporter": "python",
   "pygments_lexer": "ipython3",
   "version": "3.6.3"
  }
 },
 "nbformat": 4,
 "nbformat_minor": 2
}
